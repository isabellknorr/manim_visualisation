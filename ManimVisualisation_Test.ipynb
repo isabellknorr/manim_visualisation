{
  "nbformat": 4,
  "nbformat_minor": 0,
  "metadata": {
    "colab": {
      "provenance": [],
      "include_colab_link": true
    },
    "kernelspec": {
      "name": "python3",
      "display_name": "Python 3"
    },
    "language_info": {
      "name": "python"
    }
  },
  "cells": [
    {
      "cell_type": "markdown",
      "metadata": {
        "id": "view-in-github",
        "colab_type": "text"
      },
      "source": [
        "<a href=\"https://colab.research.google.com/github/isabellknorr/manim_visualisation/blob/main/ManimVisualisation_Test.ipynb\" target=\"_parent\"><img src=\"https://colab.research.google.com/assets/colab-badge.svg\" alt=\"Open In Colab\"/></a>"
      ]
    },
    {
      "cell_type": "code",
      "execution_count": null,
      "metadata": {
        "id": "EskaIsFGiHfb"
      },
      "outputs": [],
      "source": [
        "!sudo apt update\n",
        "!sudo apt install libcairo2-dev libpango1.0-dev ffmpeg libavcodec-dev libavformat-dev libswscale-dev"
      ]
    },
    {
      "cell_type": "code",
      "source": [
        "!pip install manim==0.12.0"
      ],
      "metadata": {
        "id": "pZCzEKrzmrCd"
      },
      "execution_count": null,
      "outputs": []
    },
    {
      "cell_type": "code",
      "source": [
        "from manim import *"
      ],
      "metadata": {
        "id": "tH3IgUtRrlZD"
      },
      "execution_count": null,
      "outputs": []
    },
    {
      "cell_type": "markdown",
      "source": [
        "**Animating a circle**"
      ],
      "metadata": {
        "id": "mWGzxHyCq31j"
      }
    },
    {
      "cell_type": "code",
      "source": [
        "config.background_color = BLACK\n",
        "\n",
        "class CreateCircle(Scene):\n",
        "\n",
        "    def construct(self):\n",
        "        circle = Circle()  # create a circle\n",
        "        circle.set_fill(\"#6cb9dc\", opacity=0.5)  # set the color and transparency\n",
        "        circle.set_stroke(color=\"#d1e8fa25\", width=8)\n",
        "        self.play(Create(circle))  # show the circle on screen\n",
        "\n",
        "%manim -pql CreateCircle"
      ],
      "metadata": {
        "id": "9IlwwuDViI9Y"
      },
      "execution_count": null,
      "outputs": []
    },
    {
      "cell_type": "markdown",
      "source": [
        "**Transforming a square into a circle**"
      ],
      "metadata": {
        "id": "ESaFlFJPq97T"
      }
    },
    {
      "cell_type": "code",
      "source": [
        "config.background_color = WHITE\n",
        "\n",
        "class SquareToCircle(Scene):\n",
        "    def construct(self):\n",
        "        circle = Circle()  # create a circle\n",
        "        circle.set_fill(\"#f2cd51\", opacity=0.5)  # set color and transparency\n",
        "\n",
        "        square = Square()  # create a square\n",
        "        square.rotate(PI / 4)  # rotate a certain amount\n",
        "\n",
        "        self.play(Create(square))  # animate the creation of the square\n",
        "        self.play(Transform(square, circle))  # interpolate the square into the circle\n",
        "        self.play(FadeOut(square))  # fade out animation\n",
        "\n",
        "%manim -ql SquareToCircle"
      ],
      "metadata": {
        "id": "ap5jhaLojaZL"
      },
      "execution_count": null,
      "outputs": []
    },
    {
      "cell_type": "markdown",
      "source": [
        "**Two squares, two rotations**"
      ],
      "metadata": {
        "id": "Hhx-DSB8rDMj"
      }
    },
    {
      "cell_type": "code",
      "source": [
        "class DifferentRotations(Scene):\n",
        "    def construct(self):\n",
        "        left_square = Square(color=\"#3b98cb\", fill_opacity=0.7).shift(2 * LEFT)\n",
        "        right_square = Square(color=\"#a6bf51\", fill_opacity=0.7).shift(2 * RIGHT)\n",
        "        self.play(\n",
        "            left_square.animate.rotate(PI), Rotate(right_square, angle=PI), run_time=2\n",
        "        )\n",
        "        self.wait()\n",
        "\n",
        "%manim -ql DifferentRotations\n"
      ],
      "metadata": {
        "id": "7RNkIdIgkK1y"
      },
      "execution_count": null,
      "outputs": []
    }
  ]
}